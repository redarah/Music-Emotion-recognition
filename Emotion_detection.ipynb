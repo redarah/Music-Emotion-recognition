{
 "cells": [
  {
   "cell_type": "code",
   "execution_count": 4,
   "id": "2111bbe2",
   "metadata": {},
   "outputs": [
    {
     "name": "stdout",
     "output_type": "stream",
     "text": [
      "pygame 2.1.2 (SDL 2.0.18, Python 3.10.4)\n",
      "Hello from the pygame community. https://www.pygame.org/contribute.html\n"
     ]
    }
   ],
   "source": [
    "import tensorflow as tf \n",
    "import cv2 \n",
    "import os \n",
    "import matplotlib.pyplot as plt \n",
    "import numpy as np \n",
    "from tensorflow import keras\n",
    "from tensorflow.keras import layers \n",
    "import random\n",
    "from pygame import mixer \n",
    "import threading\n",
    "import time \n"
   ]
  },
  {
   "cell_type": "code",
   "execution_count": 7,
   "id": "b16b9b00",
   "metadata": {
    "scrolled": true
   },
   "outputs": [],
   "source": [
    "new_model = tf.keras.models.load_model('emotion_model.hdf5', compile=False)\n"
   ]
  },
  {
   "cell_type": "code",
   "execution_count": 8,
   "id": "0c373209",
   "metadata": {},
   "outputs": [],
   "source": [
    "frame = cv2.imread(\"sad.jpg\")"
   ]
  },
  {
   "cell_type": "code",
   "execution_count": 14,
   "id": "b34afb4c",
   "metadata": {},
   "outputs": [
    {
     "data": {
      "text/plain": [
       "(255, 198, 3)"
      ]
     },
     "execution_count": 14,
     "metadata": {},
     "output_type": "execute_result"
    }
   ],
   "source": [
    "frame.shape"
   ]
  },
  {
   "cell_type": "code",
   "execution_count": 10,
   "id": "5e8b817f",
   "metadata": {},
   "outputs": [],
   "source": [
    "FaceCascade = cv2.CascadeClassifier(cv2.data.haarcascades + 'haarcascade_frontalface_default.xml')"
   ]
  },
  {
   "cell_type": "code",
   "execution_count": 11,
   "id": "36e29acc",
   "metadata": {},
   "outputs": [
    {
     "data": {
      "text/plain": [
       "(206, 245)"
      ]
     },
     "execution_count": 11,
     "metadata": {},
     "output_type": "execute_result"
    }
   ],
   "source": [
    "gray = cv2.cvtColor(frame,cv2.COLOR_BGR2GRAY)\n",
    "gray.shape"
   ]
  },
  {
   "cell_type": "code",
   "execution_count": 2,
   "id": "6e7ae693",
   "metadata": {},
   "outputs": [
    {
     "ename": "NameError",
     "evalue": "name 'FaceCascade' is not defined",
     "output_type": "error",
     "traceback": [
      "\u001b[1;31m---------------------------------------------------------------------------\u001b[0m",
      "\u001b[1;31mNameError\u001b[0m                                 Traceback (most recent call last)",
      "\u001b[1;32mc:\\Users\\Owner\\Desktop\\Project\\python-machine learning\\Emotion_detection.ipynb Cell 7\u001b[0m in \u001b[0;36m<cell line: 1>\u001b[1;34m()\u001b[0m\n\u001b[1;32m----> <a href='vscode-notebook-cell:/c%3A/Users/Owner/Desktop/Project/python-machine%20learning/Emotion_detection.ipynb#W6sZmlsZQ%3D%3D?line=0'>1</a>\u001b[0m faces\u001b[39m=\u001b[39m FaceCascade\u001b[39m.\u001b[39mdetectMultiScale(gray,\u001b[39m1.1\u001b[39m,\u001b[39m4\u001b[39m)\n\u001b[0;32m      <a href='vscode-notebook-cell:/c%3A/Users/Owner/Desktop/Project/python-machine%20learning/Emotion_detection.ipynb#W6sZmlsZQ%3D%3D?line=1'>2</a>\u001b[0m \u001b[39mfor\u001b[39;00m x,y,w,h \u001b[39min\u001b[39;00m faces:\n\u001b[0;32m      <a href='vscode-notebook-cell:/c%3A/Users/Owner/Desktop/Project/python-machine%20learning/Emotion_detection.ipynb#W6sZmlsZQ%3D%3D?line=2'>3</a>\u001b[0m     roi_gray \u001b[39m=\u001b[39m gray[y:y\u001b[39m+\u001b[39mh, x:x\u001b[39m+\u001b[39mw]\n",
      "\u001b[1;31mNameError\u001b[0m: name 'FaceCascade' is not defined"
     ]
    }
   ],
   "source": [
    "faces= FaceCascade.detectMultiScale(gray,1.1,4)\n",
    "for x,y,w,h in faces:\n",
    "    roi_gray = gray[y:y+h, x:x+w]\n",
    "    roi_color= frame [y:y+h, x:x+w]\n",
    "    cv2.rectangle(frame, (x, y), (x+w, y+h), (255, 0, 0), 2) # BGR\n",
    "    facess=FaceCascade.detectMultiScale(roi_gray)\n",
    "    if len(facess) == 0:\n",
    "        print(\"Face not detected\")\n",
    "    else:\n",
    "        for (ex, ey, ew, eh) in facess:\n",
    "            face_roi = roi_color[ey: ey+eh, ex:ex + ew]"
   ]
  },
  {
   "cell_type": "code",
   "execution_count": 11,
   "id": "e905e0a9",
   "metadata": {},
   "outputs": [
    {
     "ename": "NameError",
     "evalue": "name 'face_roi' is not defined",
     "output_type": "error",
     "traceback": [
      "\u001b[1;31m---------------------------------------------------------------------------\u001b[0m",
      "\u001b[1;31mNameError\u001b[0m                                 Traceback (most recent call last)",
      "\u001b[1;32mc:\\Users\\Owner\\Desktop\\Project\\python-machine learning\\Emotion_detection.ipynb Cell 8\u001b[0m in \u001b[0;36m<cell line: 1>\u001b[1;34m()\u001b[0m\n\u001b[1;32m----> <a href='vscode-notebook-cell:/c%3A/Users/Owner/Desktop/Project/python-machine%20learning/Emotion_detection.ipynb#X10sZmlsZQ%3D%3D?line=0'>1</a>\u001b[0m final_image \u001b[39m=\u001b[39m cv2\u001b[39m.\u001b[39mresize(face_roi, (\u001b[39m64\u001b[39m, \u001b[39m64\u001b[39m))\n\u001b[0;32m      <a href='vscode-notebook-cell:/c%3A/Users/Owner/Desktop/Project/python-machine%20learning/Emotion_detection.ipynb#X10sZmlsZQ%3D%3D?line=1'>2</a>\u001b[0m final_image \u001b[39m=\u001b[39m cv2\u001b[39m.\u001b[39mcvtColor(final_image, cv2\u001b[39m.\u001b[39mCOLOR_BGR2GRAY)\n\u001b[0;32m      <a href='vscode-notebook-cell:/c%3A/Users/Owner/Desktop/Project/python-machine%20learning/Emotion_detection.ipynb#X10sZmlsZQ%3D%3D?line=2'>3</a>\u001b[0m final_image \u001b[39m=\u001b[39m np\u001b[39m.\u001b[39mexpand_dims(final_image, axis\u001b[39m=\u001b[39m\u001b[39m-\u001b[39m\u001b[39m1\u001b[39m)\n",
      "\u001b[1;31mNameError\u001b[0m: name 'face_roi' is not defined"
     ]
    }
   ],
   "source": [
    "final_image = cv2.resize(face_roi, (64, 64))\n",
    "final_image = cv2.cvtColor(final_image, cv2.COLOR_BGR2GRAY)\n",
    "final_image = np.expand_dims(final_image, axis=-1)\n",
    "final_image = np.expand_dims(final_image, axis=0)\n",
    "final_image = final_image / 255.0\n"
   ]
  },
  {
   "cell_type": "code",
   "execution_count": 15,
   "id": "9795c5d0",
   "metadata": {},
   "outputs": [
    {
     "name": "stdout",
     "output_type": "stream",
     "text": [
      "1/1 [==============================] - 1s 1s/step\n"
     ]
    }
   ],
   "source": [
    "prediction = new_model.predict(final_image)"
   ]
  },
  {
   "cell_type": "code",
   "execution_count": 58,
   "id": "fd7bdc1e",
   "metadata": {},
   "outputs": [
    {
     "data": {
      "text/plain": [
       "array([8.0133438e-01, 1.8223624e-01, 1.4401675e-02, 3.4328532e-05,\n",
       "       1.4372409e-03, 8.1645288e-05, 4.7446438e-04], dtype=float32)"
      ]
     },
     "execution_count": 58,
     "metadata": {},
     "output_type": "execute_result"
    }
   ],
   "source": [
    "prediction[0]"
   ]
  },
  {
   "cell_type": "code",
   "execution_count": 9,
   "id": "c18d0bcd",
   "metadata": {},
   "outputs": [
    {
     "ename": "NameError",
     "evalue": "name 'prediction' is not defined",
     "output_type": "error",
     "traceback": [
      "\u001b[1;31m---------------------------------------------------------------------------\u001b[0m",
      "\u001b[1;31mNameError\u001b[0m                                 Traceback (most recent call last)",
      "\u001b[1;32mc:\\Users\\Owner\\Desktop\\Project\\python-machine learning\\Emotion_detection.ipynb Cell 11\u001b[0m in \u001b[0;36m<cell line: 1>\u001b[1;34m()\u001b[0m\n\u001b[1;32m----> <a href='vscode-notebook-cell:/c%3A/Users/Owner/Desktop/Project/python-machine%20learning/Emotion_detection.ipynb#X13sZmlsZQ%3D%3D?line=0'>1</a>\u001b[0m np\u001b[39m.\u001b[39margmax(prediction)\n",
      "\u001b[1;31mNameError\u001b[0m: name 'prediction' is not defined"
     ]
    }
   ],
   "source": [
    "np.argmax(prediction)"
   ]
  },
  {
   "cell_type": "code",
   "execution_count": 6,
   "id": "464f5aef",
   "metadata": {},
   "outputs": [
    {
     "name": "stdout",
     "output_type": "stream",
     "text": [
      "None\n"
     ]
    },
    {
     "name": "stderr",
     "output_type": "stream",
     "text": [
      "Exception in thread Thread-8 (video_capture):\n",
      "Traceback (most recent call last):\n",
      "  File \"c:\\Python310\\lib\\threading.py\", line 1009, in _bootstrap_inner\n",
      "    self.run()\n",
      "  File \"c:\\Python310\\lib\\threading.py\", line 946, in run\n",
      "    self._target(*self._args, **self._kwargs)\n",
      "  File \"C:\\Users\\Owner\\AppData\\Local\\Temp\\ipykernel_82660\\3217556788.py\", line 80, in video_capture\n",
      "cv2.error: OpenCV(4.6.0) D:\\a\\opencv-python\\opencv-python\\opencv\\modules\\imgproc\\src\\color.cpp:182: error: (-215:Assertion failed) !_src.empty() in function 'cv::cvtColor'\n",
      "\n"
     ]
    }
   ],
   "source": [
    "import tensorflow as tf \n",
    "import cv2 \n",
    "import os \n",
    "import matplotlib.pyplot as plt \n",
    "import numpy as np \n",
    "from tensorflow import keras\n",
    "from tensorflow.keras import layers \n",
    "import random\n",
    "from pygame import mixer \n",
    "import threading\n",
    "import time\n",
    "\n",
    "font_scale = 1.5\n",
    "font= cv2.FONT_HERSHEY_PLAIN\n",
    "#set the rectangle background to white\n",
    "rectangle_bgr = (255, 255, 255)\n",
    "# make a black image\n",
    "img= np.zeros((500, 500))\n",
    "#set some text\n",
    "text= \"Some text in a box!\"\n",
    "# get the width and height of the text box\n",
    "(text_width, text_height) = cv2.getTextSize(text, font, fontScale=font_scale, thickness=1)[0]\n",
    "# set the text start position\n",
    "text_offset_x = 10\n",
    "text_offset_y=img.shape [0] - 25\n",
    "# make the coords of the box with a small padding of two pixels\n",
    "box_coords= ((text_offset_x, text_offset_y), (text_offset_x + text_width + 2, text_offset_y - text_height-2))\n",
    "cv2.rectangle (img, box_coords [0], box_coords [1], rectangle_bgr, cv2.FILLED)\n",
    "cv2.putText (img, text, (text_offset_x, text_offset_y), font, fontScale=font_scale, color=(0, 0, 0), thickness=1)\n",
    "\n",
    "\n",
    "cap= cv2.VideoCapture (0)\n",
    "\n",
    "\n",
    "\n",
    "def play_music(path): \n",
    "    # loder le fichier\n",
    "    mixer.init()\n",
    "    mixer.music.load(path)\n",
    "    mixer.music.play()\n",
    "    time.sleep(15)\n",
    "   \n",
    "    \n",
    "    \n",
    "    \n",
    "    \n",
    "music_thread=None\n",
    "\n",
    "\n",
    "def emotion(status, folder_path):\n",
    "    global music_thread\n",
    "    \n",
    "\n",
    "    x1, y1, w1, h1 = 0,0,175,75\n",
    "    # Draw black background rectangle\n",
    "    cv2.rectangle (frame, (x1, x1), (x1+ w1, y1 + h1), (0,0,0), -1)\n",
    "    # Add text\n",
    "    cv2.putText(frame, status, (x1 + int(w1/10), y1 + int(h1/2)), cv2.FONT_HERSHEY_SIMPLEX, 0.7, (0,0,255), 2)\n",
    "    cv2.putText(frame, status, (100, 150), font, 3, (0, 0, 255),2,cv2.LINE_4)\n",
    "    cv2.rectangle(frame, (x, y), (x+w, y+h), (0, 0, 255))\n",
    "\n",
    "    files = [f for f in os.listdir(folder_path) if f.endswith(\".mp3\")]        \n",
    "    random_file = random.choice(files)\n",
    "    file_path = os.path.join(folder_path, random_file)\n",
    "\n",
    "    if music_thread and music_thread.is_alive():\n",
    "        music_thread.join()\n",
    "        mixer.music.stop()\n",
    "\n",
    "    music_thread = threading.Thread(target=play_music, args=(file_path,))\n",
    "    music_thread.start()\n",
    "\n",
    "    \n",
    "\n",
    "\n",
    "    \n",
    "while True:\n",
    "    ret, frame = cap.read()\n",
    "    print(frame)\n",
    "    new_model = tf.keras.models.load_model('emotion_model.hdf5', compile=False)\n",
    "    FaceCascade = cv2.CascadeClassifier(cv2.data.haarcascades + 'haarcascade_frontalface_default.xml')\n",
    "    gray = cv2.cvtColor(frame,cv2.COLOR_BGR2GRAY)\n",
    "    faces= FaceCascade.detectMultiScale(gray,1.1,4)\n",
    "    for x,y,w,h in faces:\n",
    "        roi_gray = gray[y:y+h, x:x+w]\n",
    "        roi_color= frame [y:y+h, x:x+w]\n",
    "        cv2.rectangle(frame, (x, y), (x+w, y+h), (255, 0, 0), 2) # BGR\n",
    "        facess=FaceCascade.detectMultiScale(roi_gray)\n",
    "        if len(facess) == 0:\n",
    "            print(\"Face not detected\")\n",
    "        else:\n",
    "            for (ex, ey, ew, eh) in facess:\n",
    "                face_roi = roi_color[ey: ey+eh, ex:ex + ew]\n",
    "        \n",
    "        final_image = cv2.resize(face_roi, (64, 64))\n",
    "        final_image = cv2.cvtColor(final_image, cv2.COLOR_BGR2GRAY)\n",
    "        final_image = np.expand_dims(final_image, axis=-1)\n",
    "        final_image = np.expand_dims(final_image, axis=0)\n",
    "        final_image = final_image / 255.0\n",
    "\n",
    "       \n",
    "        font = cv2.FONT_HERSHEY_SIMPLEX\n",
    "        Predictions = new_model.predict(final_image)\n",
    "        font_scale = 1.5\n",
    "        font =cv2.FONT_HERSHEY_PLAIN\n",
    "        \n",
    "        \n",
    "        \n",
    "        if (np.argmax (Predictions) ==0):\n",
    "            emotion(\"Angry\",\"music/angry/\")\n",
    "            \n",
    "        elif (np.argmax (Predictions) == 1):\n",
    "            \n",
    "            emotion(\"Disgust\",\"music/disgust/\")\n",
    "            \n",
    "        elif (np.argmax (Predictions) == 2):\n",
    "           \n",
    "            emotion(\"Fear\",\"music/fear/\")\n",
    "            \n",
    "            \n",
    "        elif (np.argmax (Predictions) == 3):\n",
    "            emotion(\"Happy\",\"music/happy/\")\n",
    "            \n",
    "            \n",
    "        elif (np.argmax (Predictions) == 4):\n",
    "           \n",
    "            emotion(\"Sad\",\"music/sad/\")\n",
    "            \n",
    "        elif (np.argmax (Predictions) == 5):\n",
    "            \n",
    "            emotion(\"Surprise\",\"music/surprise/\")\n",
    "\n",
    "            \n",
    "        elif (np.argmax (Predictions) == 6):\n",
    "            \n",
    "            emotion(\"Neutral\",\"music/neutral/\")\n",
    "            \n",
    "            \n",
    "        cv2.imshow('Face Emotion Recognition',frame)\n",
    "        if(cv2.waitKey(1) & 0xFF == ord('q')):\n",
    "            break\n",
    "            \n",
    "cap.release()\n",
    "pygame.quit()\n",
    "cv2.destroyAllWindows()"
   ]
  },
  {
   "cell_type": "code",
   "execution_count": null,
   "id": "3d9a5646",
   "metadata": {},
   "outputs": [],
   "source": []
  }
 ],
 "metadata": {
  "kernelspec": {
   "display_name": "Python 3",
   "language": "python",
   "name": "python3"
  },
  "language_info": {
   "codemirror_mode": {
    "name": "ipython",
    "version": 3
   },
   "file_extension": ".py",
   "mimetype": "text/x-python",
   "name": "python",
   "nbconvert_exporter": "python",
   "pygments_lexer": "ipython3",
   "version": "3.10.4 (tags/v3.10.4:9d38120, Mar 23 2022, 23:13:41) [MSC v.1929 64 bit (AMD64)]"
  },
  "vscode": {
   "interpreter": {
    "hash": "369f2c481f4da34e4445cda3fffd2e751bd1c4d706f27375911949ba6bb62e1c"
   }
  }
 },
 "nbformat": 4,
 "nbformat_minor": 5
}
